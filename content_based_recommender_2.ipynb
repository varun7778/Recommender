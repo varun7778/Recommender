{
 "cells": [
  {
   "cell_type": "code",
   "execution_count": 1,
   "metadata": {},
   "outputs": [],
   "source": [
    "import numpy as np\n",
    "import pandas as pd\n",
    "import matplotlib.pyplot as plt\n",
    "import warnings\n",
    "warnings.filterwarnings('ignore')"
   ]
  },
  {
   "cell_type": "code",
   "execution_count": 9,
   "metadata": {},
   "outputs": [],
   "source": [
    "movies=pd.read_csv(\"tmdb/10000 Movies Data\")\n",
    "credits=pd.read_csv('tmdb/10000 Credits Data')"
   ]
  },
  {
   "cell_type": "code",
   "execution_count": 10,
   "metadata": {},
   "outputs": [
    {
     "data": {
      "text/html": [
       "<div>\n",
       "<style scoped>\n",
       "    .dataframe tbody tr th:only-of-type {\n",
       "        vertical-align: middle;\n",
       "    }\n",
       "\n",
       "    .dataframe tbody tr th {\n",
       "        vertical-align: top;\n",
       "    }\n",
       "\n",
       "    .dataframe thead th {\n",
       "        text-align: right;\n",
       "    }\n",
       "</style>\n",
       "<table border=\"1\" class=\"dataframe\">\n",
       "  <thead>\n",
       "    <tr style=\"text-align: right;\">\n",
       "      <th></th>\n",
       "      <th>Unnamed: 0</th>\n",
       "      <th>Movie_id</th>\n",
       "      <th>title</th>\n",
       "      <th>Cast</th>\n",
       "      <th>Crew</th>\n",
       "    </tr>\n",
       "  </thead>\n",
       "  <tbody>\n",
       "    <tr>\n",
       "      <th>0</th>\n",
       "      <td>0</td>\n",
       "      <td>238</td>\n",
       "      <td>The Godfather</td>\n",
       "      <td>[{'adult': False, 'gender': 2, 'id': 3084, 'kn...</td>\n",
       "      <td>[{'adult': False, 'gender': 2, 'id': 154, 'kno...</td>\n",
       "    </tr>\n",
       "    <tr>\n",
       "      <th>1</th>\n",
       "      <td>1</td>\n",
       "      <td>278</td>\n",
       "      <td>The Shawshank Redemption</td>\n",
       "      <td>[{'adult': False, 'gender': 2, 'id': 504, 'kno...</td>\n",
       "      <td>[{'adult': False, 'gender': 2, 'id': 153, 'kno...</td>\n",
       "    </tr>\n",
       "    <tr>\n",
       "      <th>2</th>\n",
       "      <td>2</td>\n",
       "      <td>240</td>\n",
       "      <td>The Godfather Part II</td>\n",
       "      <td>[{'adult': False, 'gender': 2, 'id': 1158, 'kn...</td>\n",
       "      <td>[{'adult': False, 'gender': 2, 'id': 154, 'kno...</td>\n",
       "    </tr>\n",
       "    <tr>\n",
       "      <th>3</th>\n",
       "      <td>3</td>\n",
       "      <td>19404</td>\n",
       "      <td>Dilwale Dulhania Le Jayenge</td>\n",
       "      <td>[{'adult': False, 'gender': 2, 'id': 35742, 'k...</td>\n",
       "      <td>[{'adult': False, 'gender': 1, 'id': 8311, 'kn...</td>\n",
       "    </tr>\n",
       "    <tr>\n",
       "      <th>4</th>\n",
       "      <td>4</td>\n",
       "      <td>424</td>\n",
       "      <td>Schindler's List</td>\n",
       "      <td>[{'adult': False, 'gender': 2, 'id': 3896, 'kn...</td>\n",
       "      <td>[{'adult': False, 'gender': 2, 'id': 491, 'kno...</td>\n",
       "    </tr>\n",
       "  </tbody>\n",
       "</table>\n",
       "</div>"
      ],
      "text/plain": [
       "   Unnamed: 0  Movie_id                        title  \\\n",
       "0           0       238                The Godfather   \n",
       "1           1       278     The Shawshank Redemption   \n",
       "2           2       240        The Godfather Part II   \n",
       "3           3     19404  Dilwale Dulhania Le Jayenge   \n",
       "4           4       424             Schindler's List   \n",
       "\n",
       "                                                Cast  \\\n",
       "0  [{'adult': False, 'gender': 2, 'id': 3084, 'kn...   \n",
       "1  [{'adult': False, 'gender': 2, 'id': 504, 'kno...   \n",
       "2  [{'adult': False, 'gender': 2, 'id': 1158, 'kn...   \n",
       "3  [{'adult': False, 'gender': 2, 'id': 35742, 'k...   \n",
       "4  [{'adult': False, 'gender': 2, 'id': 3896, 'kn...   \n",
       "\n",
       "                                                Crew  \n",
       "0  [{'adult': False, 'gender': 2, 'id': 154, 'kno...  \n",
       "1  [{'adult': False, 'gender': 2, 'id': 153, 'kno...  \n",
       "2  [{'adult': False, 'gender': 2, 'id': 154, 'kno...  \n",
       "3  [{'adult': False, 'gender': 1, 'id': 8311, 'kn...  \n",
       "4  [{'adult': False, 'gender': 2, 'id': 491, 'kno...  "
      ]
     },
     "execution_count": 10,
     "metadata": {},
     "output_type": "execute_result"
    }
   ],
   "source": [
    "credits.head()"
   ]
  },
  {
   "cell_type": "code",
   "execution_count": 11,
   "metadata": {},
   "outputs": [],
   "source": [
    "credits=credits.drop(\"title\",axis=1)"
   ]
  },
  {
   "cell_type": "code",
   "execution_count": 12,
   "metadata": {},
   "outputs": [],
   "source": [
    "movies=movies.merge(credits,on='Movie_id')"
   ]
  },
  {
   "cell_type": "code",
   "execution_count": 13,
   "metadata": {},
   "outputs": [
    {
     "data": {
      "text/html": [
       "<div>\n",
       "<style scoped>\n",
       "    .dataframe tbody tr th:only-of-type {\n",
       "        vertical-align: middle;\n",
       "    }\n",
       "\n",
       "    .dataframe tbody tr th {\n",
       "        vertical-align: top;\n",
       "    }\n",
       "\n",
       "    .dataframe thead th {\n",
       "        text-align: right;\n",
       "    }\n",
       "</style>\n",
       "<table border=\"1\" class=\"dataframe\">\n",
       "  <thead>\n",
       "    <tr style=\"text-align: right;\">\n",
       "      <th></th>\n",
       "      <th>Unnamed: 0_x</th>\n",
       "      <th>Movie_id</th>\n",
       "      <th>title</th>\n",
       "      <th>Genres</th>\n",
       "      <th>release_date</th>\n",
       "      <th>Keywords</th>\n",
       "      <th>overview</th>\n",
       "      <th>poster_path</th>\n",
       "      <th>Budget</th>\n",
       "      <th>Revenue</th>\n",
       "      <th>popularity</th>\n",
       "      <th>vote_average</th>\n",
       "      <th>vote_count</th>\n",
       "      <th>Unnamed: 0_y</th>\n",
       "      <th>Cast</th>\n",
       "      <th>Crew</th>\n",
       "    </tr>\n",
       "  </thead>\n",
       "  <tbody>\n",
       "    <tr>\n",
       "      <th>0</th>\n",
       "      <td>0</td>\n",
       "      <td>238</td>\n",
       "      <td>The Godfather</td>\n",
       "      <td>[{'id': 18, 'name': 'Drama'}, {'id': 80, 'name...</td>\n",
       "      <td>1972-03-14</td>\n",
       "      <td>[{'id': 131, 'name': 'italy'}, {'id': 697, 'na...</td>\n",
       "      <td>Spanning the years 1945 to 1955, a chronicle o...</td>\n",
       "      <td>/3bhkrj58Vtu7enYsRolD1fZdja1.jpg</td>\n",
       "      <td>245066411</td>\n",
       "      <td>245066411</td>\n",
       "      <td>93.552</td>\n",
       "      <td>8.7</td>\n",
       "      <td>16814</td>\n",
       "      <td>0</td>\n",
       "      <td>[{'adult': False, 'gender': 2, 'id': 3084, 'kn...</td>\n",
       "      <td>[{'adult': False, 'gender': 2, 'id': 154, 'kno...</td>\n",
       "    </tr>\n",
       "  </tbody>\n",
       "</table>\n",
       "</div>"
      ],
      "text/plain": [
       "   Unnamed: 0_x  Movie_id          title  \\\n",
       "0             0       238  The Godfather   \n",
       "\n",
       "                                              Genres release_date  \\\n",
       "0  [{'id': 18, 'name': 'Drama'}, {'id': 80, 'name...   1972-03-14   \n",
       "\n",
       "                                            Keywords  \\\n",
       "0  [{'id': 131, 'name': 'italy'}, {'id': 697, 'na...   \n",
       "\n",
       "                                            overview  \\\n",
       "0  Spanning the years 1945 to 1955, a chronicle o...   \n",
       "\n",
       "                        poster_path     Budget    Revenue  popularity  \\\n",
       "0  /3bhkrj58Vtu7enYsRolD1fZdja1.jpg  245066411  245066411      93.552   \n",
       "\n",
       "   vote_average  vote_count  Unnamed: 0_y  \\\n",
       "0           8.7       16814             0   \n",
       "\n",
       "                                                Cast  \\\n",
       "0  [{'adult': False, 'gender': 2, 'id': 3084, 'kn...   \n",
       "\n",
       "                                                Crew  \n",
       "0  [{'adult': False, 'gender': 2, 'id': 154, 'kno...  "
      ]
     },
     "execution_count": 13,
     "metadata": {},
     "output_type": "execute_result"
    }
   ],
   "source": [
    "movies.head(1)"
   ]
  },
  {
   "cell_type": "code",
   "execution_count": 14,
   "metadata": {},
   "outputs": [],
   "source": [
    "movies=movies[['Movie_id','title','Genres',\"Keywords\",'overview','Cast','Crew']]"
   ]
  },
  {
   "cell_type": "code",
   "execution_count": 15,
   "metadata": {},
   "outputs": [
    {
     "data": {
      "text/plain": [
       "Movie_id    0\n",
       "title       0\n",
       "Genres      0\n",
       "Keywords    0\n",
       "overview    6\n",
       "Cast        0\n",
       "Crew        0\n",
       "dtype: int64"
      ]
     },
     "execution_count": 15,
     "metadata": {},
     "output_type": "execute_result"
    }
   ],
   "source": [
    "movies.isnull().sum()"
   ]
  },
  {
   "cell_type": "code",
   "execution_count": 16,
   "metadata": {},
   "outputs": [],
   "source": [
    "movies.dropna(inplace=True)"
   ]
  },
  {
   "cell_type": "code",
   "execution_count": 17,
   "metadata": {},
   "outputs": [
    {
     "data": {
      "text/plain": [
       "Movie_id    0\n",
       "title       0\n",
       "Genres      0\n",
       "Keywords    0\n",
       "overview    0\n",
       "Cast        0\n",
       "Crew        0\n",
       "dtype: int64"
      ]
     },
     "execution_count": 17,
     "metadata": {},
     "output_type": "execute_result"
    }
   ],
   "source": [
    "movies.isnull().sum()"
   ]
  },
  {
   "cell_type": "code",
   "execution_count": 18,
   "metadata": {},
   "outputs": [
    {
     "data": {
      "text/plain": [
       "0"
      ]
     },
     "execution_count": 18,
     "metadata": {},
     "output_type": "execute_result"
    }
   ],
   "source": [
    "movies.duplicated().sum()"
   ]
  },
  {
   "cell_type": "code",
   "execution_count": 19,
   "metadata": {},
   "outputs": [
    {
     "data": {
      "text/plain": [
       "<function ast.literal_eval(node_or_string)>"
      ]
     },
     "execution_count": 19,
     "metadata": {},
     "output_type": "execute_result"
    }
   ],
   "source": [
    "import ast\n",
    "ast.literal_eval"
   ]
  },
  {
   "cell_type": "code",
   "execution_count": 20,
   "metadata": {},
   "outputs": [
    {
     "data": {
      "text/html": [
       "<div>\n",
       "<style scoped>\n",
       "    .dataframe tbody tr th:only-of-type {\n",
       "        vertical-align: middle;\n",
       "    }\n",
       "\n",
       "    .dataframe tbody tr th {\n",
       "        vertical-align: top;\n",
       "    }\n",
       "\n",
       "    .dataframe thead th {\n",
       "        text-align: right;\n",
       "    }\n",
       "</style>\n",
       "<table border=\"1\" class=\"dataframe\">\n",
       "  <thead>\n",
       "    <tr style=\"text-align: right;\">\n",
       "      <th></th>\n",
       "      <th>Movie_id</th>\n",
       "      <th>title</th>\n",
       "      <th>Genres</th>\n",
       "      <th>Keywords</th>\n",
       "      <th>overview</th>\n",
       "      <th>Cast</th>\n",
       "      <th>Crew</th>\n",
       "    </tr>\n",
       "  </thead>\n",
       "  <tbody>\n",
       "    <tr>\n",
       "      <th>0</th>\n",
       "      <td>238</td>\n",
       "      <td>The Godfather</td>\n",
       "      <td>[{'id': 18, 'name': 'Drama'}, {'id': 80, 'name...</td>\n",
       "      <td>[{'id': 131, 'name': 'italy'}, {'id': 697, 'na...</td>\n",
       "      <td>Spanning the years 1945 to 1955, a chronicle o...</td>\n",
       "      <td>[{'adult': False, 'gender': 2, 'id': 3084, 'kn...</td>\n",
       "      <td>[{'adult': False, 'gender': 2, 'id': 154, 'kno...</td>\n",
       "    </tr>\n",
       "    <tr>\n",
       "      <th>1</th>\n",
       "      <td>278</td>\n",
       "      <td>The Shawshank Redemption</td>\n",
       "      <td>[{'id': 18, 'name': 'Drama'}, {'id': 80, 'name...</td>\n",
       "      <td>[{'id': 378, 'name': 'prison'}, {'id': 417, 'n...</td>\n",
       "      <td>Framed in the 1940s for the double murder of h...</td>\n",
       "      <td>[{'adult': False, 'gender': 2, 'id': 504, 'kno...</td>\n",
       "      <td>[{'adult': False, 'gender': 2, 'id': 153, 'kno...</td>\n",
       "    </tr>\n",
       "    <tr>\n",
       "      <th>2</th>\n",
       "      <td>240</td>\n",
       "      <td>The Godfather Part II</td>\n",
       "      <td>[{'id': 18, 'name': 'Drama'}, {'id': 80, 'name...</td>\n",
       "      <td>[{'id': 131, 'name': 'italy'}, {'id': 700, 'na...</td>\n",
       "      <td>In the continuing saga of the Corleone crime f...</td>\n",
       "      <td>[{'adult': False, 'gender': 2, 'id': 1158, 'kn...</td>\n",
       "      <td>[{'adult': False, 'gender': 2, 'id': 154, 'kno...</td>\n",
       "    </tr>\n",
       "    <tr>\n",
       "      <th>3</th>\n",
       "      <td>19404</td>\n",
       "      <td>Dilwale Dulhania Le Jayenge</td>\n",
       "      <td>[{'id': 35, 'name': 'Comedy'}, {'id': 18, 'nam...</td>\n",
       "      <td>[]</td>\n",
       "      <td>Raj is a rich, carefree, happy-go-lucky second...</td>\n",
       "      <td>[{'adult': False, 'gender': 2, 'id': 35742, 'k...</td>\n",
       "      <td>[{'adult': False, 'gender': 1, 'id': 8311, 'kn...</td>\n",
       "    </tr>\n",
       "    <tr>\n",
       "      <th>4</th>\n",
       "      <td>424</td>\n",
       "      <td>Schindler's List</td>\n",
       "      <td>[{'id': 18, 'name': 'Drama'}, {'id': 36, 'name...</td>\n",
       "      <td>[{'id': 818, 'name': 'based on novel or book'}...</td>\n",
       "      <td>The true story of how businessman Oskar Schind...</td>\n",
       "      <td>[{'adult': False, 'gender': 2, 'id': 3896, 'kn...</td>\n",
       "      <td>[{'adult': False, 'gender': 2, 'id': 491, 'kno...</td>\n",
       "    </tr>\n",
       "  </tbody>\n",
       "</table>\n",
       "</div>"
      ],
      "text/plain": [
       "   Movie_id                        title  \\\n",
       "0       238                The Godfather   \n",
       "1       278     The Shawshank Redemption   \n",
       "2       240        The Godfather Part II   \n",
       "3     19404  Dilwale Dulhania Le Jayenge   \n",
       "4       424             Schindler's List   \n",
       "\n",
       "                                              Genres  \\\n",
       "0  [{'id': 18, 'name': 'Drama'}, {'id': 80, 'name...   \n",
       "1  [{'id': 18, 'name': 'Drama'}, {'id': 80, 'name...   \n",
       "2  [{'id': 18, 'name': 'Drama'}, {'id': 80, 'name...   \n",
       "3  [{'id': 35, 'name': 'Comedy'}, {'id': 18, 'nam...   \n",
       "4  [{'id': 18, 'name': 'Drama'}, {'id': 36, 'name...   \n",
       "\n",
       "                                            Keywords  \\\n",
       "0  [{'id': 131, 'name': 'italy'}, {'id': 697, 'na...   \n",
       "1  [{'id': 378, 'name': 'prison'}, {'id': 417, 'n...   \n",
       "2  [{'id': 131, 'name': 'italy'}, {'id': 700, 'na...   \n",
       "3                                                 []   \n",
       "4  [{'id': 818, 'name': 'based on novel or book'}...   \n",
       "\n",
       "                                            overview  \\\n",
       "0  Spanning the years 1945 to 1955, a chronicle o...   \n",
       "1  Framed in the 1940s for the double murder of h...   \n",
       "2  In the continuing saga of the Corleone crime f...   \n",
       "3  Raj is a rich, carefree, happy-go-lucky second...   \n",
       "4  The true story of how businessman Oskar Schind...   \n",
       "\n",
       "                                                Cast  \\\n",
       "0  [{'adult': False, 'gender': 2, 'id': 3084, 'kn...   \n",
       "1  [{'adult': False, 'gender': 2, 'id': 504, 'kno...   \n",
       "2  [{'adult': False, 'gender': 2, 'id': 1158, 'kn...   \n",
       "3  [{'adult': False, 'gender': 2, 'id': 35742, 'k...   \n",
       "4  [{'adult': False, 'gender': 2, 'id': 3896, 'kn...   \n",
       "\n",
       "                                                Crew  \n",
       "0  [{'adult': False, 'gender': 2, 'id': 154, 'kno...  \n",
       "1  [{'adult': False, 'gender': 2, 'id': 153, 'kno...  \n",
       "2  [{'adult': False, 'gender': 2, 'id': 154, 'kno...  \n",
       "3  [{'adult': False, 'gender': 1, 'id': 8311, 'kn...  \n",
       "4  [{'adult': False, 'gender': 2, 'id': 491, 'kno...  "
      ]
     },
     "execution_count": 20,
     "metadata": {},
     "output_type": "execute_result"
    }
   ],
   "source": [
    "movies.head()"
   ]
  },
  {
   "cell_type": "code",
   "execution_count": 21,
   "metadata": {},
   "outputs": [],
   "source": [
    "def convert(obj):\n",
    "    L =[]\n",
    "    for i in ast.literal_eval(obj):\n",
    "        L.append(i['name'])\n",
    "    return L"
   ]
  },
  {
   "cell_type": "code",
   "execution_count": 22,
   "metadata": {},
   "outputs": [
    {
     "data": {
      "text/html": [
       "<div>\n",
       "<style scoped>\n",
       "    .dataframe tbody tr th:only-of-type {\n",
       "        vertical-align: middle;\n",
       "    }\n",
       "\n",
       "    .dataframe tbody tr th {\n",
       "        vertical-align: top;\n",
       "    }\n",
       "\n",
       "    .dataframe thead th {\n",
       "        text-align: right;\n",
       "    }\n",
       "</style>\n",
       "<table border=\"1\" class=\"dataframe\">\n",
       "  <thead>\n",
       "    <tr style=\"text-align: right;\">\n",
       "      <th></th>\n",
       "      <th>Movie_id</th>\n",
       "      <th>title</th>\n",
       "      <th>Genres</th>\n",
       "      <th>Keywords</th>\n",
       "      <th>overview</th>\n",
       "      <th>Cast</th>\n",
       "      <th>Crew</th>\n",
       "    </tr>\n",
       "  </thead>\n",
       "  <tbody>\n",
       "    <tr>\n",
       "      <th>0</th>\n",
       "      <td>238</td>\n",
       "      <td>The Godfather</td>\n",
       "      <td>[Drama, Crime]</td>\n",
       "      <td>[{'id': 131, 'name': 'italy'}, {'id': 697, 'na...</td>\n",
       "      <td>Spanning the years 1945 to 1955, a chronicle o...</td>\n",
       "      <td>[{'adult': False, 'gender': 2, 'id': 3084, 'kn...</td>\n",
       "      <td>[{'adult': False, 'gender': 2, 'id': 154, 'kno...</td>\n",
       "    </tr>\n",
       "    <tr>\n",
       "      <th>1</th>\n",
       "      <td>278</td>\n",
       "      <td>The Shawshank Redemption</td>\n",
       "      <td>[Drama, Crime]</td>\n",
       "      <td>[{'id': 378, 'name': 'prison'}, {'id': 417, 'n...</td>\n",
       "      <td>Framed in the 1940s for the double murder of h...</td>\n",
       "      <td>[{'adult': False, 'gender': 2, 'id': 504, 'kno...</td>\n",
       "      <td>[{'adult': False, 'gender': 2, 'id': 153, 'kno...</td>\n",
       "    </tr>\n",
       "    <tr>\n",
       "      <th>2</th>\n",
       "      <td>240</td>\n",
       "      <td>The Godfather Part II</td>\n",
       "      <td>[Drama, Crime]</td>\n",
       "      <td>[{'id': 131, 'name': 'italy'}, {'id': 700, 'na...</td>\n",
       "      <td>In the continuing saga of the Corleone crime f...</td>\n",
       "      <td>[{'adult': False, 'gender': 2, 'id': 1158, 'kn...</td>\n",
       "      <td>[{'adult': False, 'gender': 2, 'id': 154, 'kno...</td>\n",
       "    </tr>\n",
       "    <tr>\n",
       "      <th>3</th>\n",
       "      <td>19404</td>\n",
       "      <td>Dilwale Dulhania Le Jayenge</td>\n",
       "      <td>[Comedy, Drama, Romance]</td>\n",
       "      <td>[]</td>\n",
       "      <td>Raj is a rich, carefree, happy-go-lucky second...</td>\n",
       "      <td>[{'adult': False, 'gender': 2, 'id': 35742, 'k...</td>\n",
       "      <td>[{'adult': False, 'gender': 1, 'id': 8311, 'kn...</td>\n",
       "    </tr>\n",
       "    <tr>\n",
       "      <th>4</th>\n",
       "      <td>424</td>\n",
       "      <td>Schindler's List</td>\n",
       "      <td>[Drama, History, War]</td>\n",
       "      <td>[{'id': 818, 'name': 'based on novel or book'}...</td>\n",
       "      <td>The true story of how businessman Oskar Schind...</td>\n",
       "      <td>[{'adult': False, 'gender': 2, 'id': 3896, 'kn...</td>\n",
       "      <td>[{'adult': False, 'gender': 2, 'id': 491, 'kno...</td>\n",
       "    </tr>\n",
       "  </tbody>\n",
       "</table>\n",
       "</div>"
      ],
      "text/plain": [
       "   Movie_id                        title                    Genres  \\\n",
       "0       238                The Godfather            [Drama, Crime]   \n",
       "1       278     The Shawshank Redemption            [Drama, Crime]   \n",
       "2       240        The Godfather Part II            [Drama, Crime]   \n",
       "3     19404  Dilwale Dulhania Le Jayenge  [Comedy, Drama, Romance]   \n",
       "4       424             Schindler's List     [Drama, History, War]   \n",
       "\n",
       "                                            Keywords  \\\n",
       "0  [{'id': 131, 'name': 'italy'}, {'id': 697, 'na...   \n",
       "1  [{'id': 378, 'name': 'prison'}, {'id': 417, 'n...   \n",
       "2  [{'id': 131, 'name': 'italy'}, {'id': 700, 'na...   \n",
       "3                                                 []   \n",
       "4  [{'id': 818, 'name': 'based on novel or book'}...   \n",
       "\n",
       "                                            overview  \\\n",
       "0  Spanning the years 1945 to 1955, a chronicle o...   \n",
       "1  Framed in the 1940s for the double murder of h...   \n",
       "2  In the continuing saga of the Corleone crime f...   \n",
       "3  Raj is a rich, carefree, happy-go-lucky second...   \n",
       "4  The true story of how businessman Oskar Schind...   \n",
       "\n",
       "                                                Cast  \\\n",
       "0  [{'adult': False, 'gender': 2, 'id': 3084, 'kn...   \n",
       "1  [{'adult': False, 'gender': 2, 'id': 504, 'kno...   \n",
       "2  [{'adult': False, 'gender': 2, 'id': 1158, 'kn...   \n",
       "3  [{'adult': False, 'gender': 2, 'id': 35742, 'k...   \n",
       "4  [{'adult': False, 'gender': 2, 'id': 3896, 'kn...   \n",
       "\n",
       "                                                Crew  \n",
       "0  [{'adult': False, 'gender': 2, 'id': 154, 'kno...  \n",
       "1  [{'adult': False, 'gender': 2, 'id': 153, 'kno...  \n",
       "2  [{'adult': False, 'gender': 2, 'id': 154, 'kno...  \n",
       "3  [{'adult': False, 'gender': 1, 'id': 8311, 'kn...  \n",
       "4  [{'adult': False, 'gender': 2, 'id': 491, 'kno...  "
      ]
     },
     "execution_count": 22,
     "metadata": {},
     "output_type": "execute_result"
    }
   ],
   "source": [
    "movies['Genres'] = movies['Genres'].apply(convert)\n",
    "movies.head()"
   ]
  },
  {
   "cell_type": "code",
   "execution_count": 23,
   "metadata": {},
   "outputs": [],
   "source": [
    "movies['Keywords']=movies['Keywords'].apply(convert)"
   ]
  },
  {
   "cell_type": "code",
   "execution_count": 24,
   "metadata": {},
   "outputs": [],
   "source": [
    "def convert3(obj):\n",
    "    L =[]\n",
    "    counter=0\n",
    "    for i in ast.literal_eval(obj):\n",
    "        if counter !=3:\n",
    "            L.append(i['name'])\n",
    "            counter+=1\n",
    "    return L"
   ]
  },
  {
   "cell_type": "code",
   "execution_count": 25,
   "metadata": {},
   "outputs": [],
   "source": [
    "movies['Cast']=movies['Cast'].apply(convert3)"
   ]
  },
  {
   "cell_type": "code",
   "execution_count": 28,
   "metadata": {},
   "outputs": [],
   "source": [
    "def fetch_directer(obj):\n",
    "    L =[]\n",
    "    for i in ast.literal_eval(obj):\n",
    "        if i['job']==\"Director\":\n",
    "            L.append(i['name'])\n",
    "            break\n",
    "    return L"
   ]
  },
  {
   "cell_type": "code",
   "execution_count": 29,
   "metadata": {},
   "outputs": [],
   "source": [
    "movies['Crew']=movies['Crew'].apply(fetch_directer)\n",
    "movies['overview']=movies['overview'].apply(lambda x: x.split())"
   ]
  },
  {
   "cell_type": "code",
   "execution_count": 31,
   "metadata": {},
   "outputs": [],
   "source": [
    "#remove space in between two worrds\n",
    "movies['Genres']=movies['Genres'].apply(lambda x : [i.replace(\" \",\"\")for i in x])\n",
    "movies['Keywords']=movies['Keywords'].apply(lambda x : [i.replace(\" \",\"\")for i in x])\n",
    "movies['Cast']=movies['Cast'].apply(lambda x : [i.replace(\" \",\"\")for i in x])\n",
    "movies['Crew']=movies['Crew'].apply(lambda x : [i.replace(\" \",\"\")for i in x])"
   ]
  },
  {
   "cell_type": "code",
   "execution_count": 33,
   "metadata": {},
   "outputs": [
    {
     "name": "stdout",
     "output_type": "stream",
     "text": [
      "The history saving thread hit an unexpected error (OperationalError('database or disk is full')).History will not be written to the database.\n"
     ]
    }
   ],
   "source": [
    "movies['tags']= movies['Genres'] + movies['Keywords'] + movies['Cast'] + movies['Crew'] + movies['overview']"
   ]
  },
  {
   "cell_type": "code",
   "execution_count": 35,
   "metadata": {},
   "outputs": [],
   "source": [
    "#fetch three columns from dataframe\n",
    "new_df = movies[['Movie_id','title','tags']]\n",
    "#convert list into string and make those lower case\n",
    "new_df['tags']=new_df['tags'].apply(lambda x: \" \".join(x))\n",
    "new_df['tags']=new_df['tags'].apply(lambda x: x.lower())"
   ]
  },
  {
   "cell_type": "code",
   "execution_count": 36,
   "metadata": {},
   "outputs": [
    {
     "data": {
      "text/html": [
       "<div>\n",
       "<style scoped>\n",
       "    .dataframe tbody tr th:only-of-type {\n",
       "        vertical-align: middle;\n",
       "    }\n",
       "\n",
       "    .dataframe tbody tr th {\n",
       "        vertical-align: top;\n",
       "    }\n",
       "\n",
       "    .dataframe thead th {\n",
       "        text-align: right;\n",
       "    }\n",
       "</style>\n",
       "<table border=\"1\" class=\"dataframe\">\n",
       "  <thead>\n",
       "    <tr style=\"text-align: right;\">\n",
       "      <th></th>\n",
       "      <th>Movie_id</th>\n",
       "      <th>title</th>\n",
       "      <th>tags</th>\n",
       "    </tr>\n",
       "  </thead>\n",
       "  <tbody>\n",
       "    <tr>\n",
       "      <th>0</th>\n",
       "      <td>238</td>\n",
       "      <td>The Godfather</td>\n",
       "      <td>drama crime italy lossoflovedone loveatfirstsi...</td>\n",
       "    </tr>\n",
       "    <tr>\n",
       "      <th>1</th>\n",
       "      <td>278</td>\n",
       "      <td>The Shawshank Redemption</td>\n",
       "      <td>drama crime prison corruption policebrutality ...</td>\n",
       "    </tr>\n",
       "    <tr>\n",
       "      <th>2</th>\n",
       "      <td>240</td>\n",
       "      <td>The Godfather Part II</td>\n",
       "      <td>drama crime italy italianamerican cuba symboli...</td>\n",
       "    </tr>\n",
       "    <tr>\n",
       "      <th>3</th>\n",
       "      <td>19404</td>\n",
       "      <td>Dilwale Dulhania Le Jayenge</td>\n",
       "      <td>comedy drama romance shahrukhkhan kajol amrish...</td>\n",
       "    </tr>\n",
       "    <tr>\n",
       "      <th>4</th>\n",
       "      <td>424</td>\n",
       "      <td>Schindler's List</td>\n",
       "      <td>drama history war basedonnovelorbook factory c...</td>\n",
       "    </tr>\n",
       "  </tbody>\n",
       "</table>\n",
       "</div>"
      ],
      "text/plain": [
       "   Movie_id                        title  \\\n",
       "0       238                The Godfather   \n",
       "1       278     The Shawshank Redemption   \n",
       "2       240        The Godfather Part II   \n",
       "3     19404  Dilwale Dulhania Le Jayenge   \n",
       "4       424             Schindler's List   \n",
       "\n",
       "                                                tags  \n",
       "0  drama crime italy lossoflovedone loveatfirstsi...  \n",
       "1  drama crime prison corruption policebrutality ...  \n",
       "2  drama crime italy italianamerican cuba symboli...  \n",
       "3  comedy drama romance shahrukhkhan kajol amrish...  \n",
       "4  drama history war basedonnovelorbook factory c...  "
      ]
     },
     "execution_count": 36,
     "metadata": {},
     "output_type": "execute_result"
    }
   ],
   "source": [
    "new_df.head()"
   ]
  },
  {
   "cell_type": "code",
   "execution_count": 38,
   "metadata": {},
   "outputs": [
    {
     "name": "stderr",
     "output_type": "stream",
     "text": [
      "[nltk_data] Downloading package wordnet to\n",
      "[nltk_data]     C:\\Users\\svaru\\AppData\\Roaming\\nltk_data...\n"
     ]
    }
   ],
   "source": [
    "import nltk\n",
    "nltk.download('wordnet')\n",
    "from nltk.stem import PorterStemmer,WordNetLemmatizer\n",
    "ps=PorterStemmer()\n",
    "wnl = WordNetLemmatizer()"
   ]
  },
  {
   "cell_type": "code",
   "execution_count": 39,
   "metadata": {},
   "outputs": [],
   "source": [
    "def steam(text):\n",
    "    y=[]\n",
    "    for i in text.split():\n",
    "        y.append (ps.stem(i))\n",
    "    return \" \".join(y)\n",
    "\n",
    "def lemmi(text):\n",
    "    y=[]\n",
    "    for i in text.split():\n",
    "        y.append (ps.wnl(i))\n",
    "    return \" \".join(y)"
   ]
  },
  {
   "cell_type": "code",
   "execution_count": 42,
   "metadata": {},
   "outputs": [],
   "source": [
    "#lemmitization\n",
    "new_df['tags1']=new_df['tags'].apply(steam)\n",
    "#porter_steammer\n",
    "new_df['tags']=new_df['tags'].apply(steam)"
   ]
  },
  {
   "cell_type": "code",
   "execution_count": 44,
   "metadata": {},
   "outputs": [],
   "source": [
    "#take 50000 feathures using features extraction\n",
    "from sklearn.feature_extraction.text import CountVectorizer, TfidfVectorizer"
   ]
  },
  {
   "cell_type": "code",
   "execution_count": 48,
   "metadata": {},
   "outputs": [
    {
     "data": {
      "text/plain": [
       "'broadway'"
      ]
     },
     "execution_count": 48,
     "metadata": {},
     "output_type": "execute_result"
    }
   ],
   "source": [
    "#CounterVectorizer or Bag of word with porterSteamer\n",
    "CV= CountVectorizer(max_features=8000, stop_words=\"english\")\n",
    "vector=CV.fit_transform(new_df['tags']).toarray()\n",
    "#check random features name\n",
    "CV.get_feature_names_out()[1002]"
   ]
  },
  {
   "cell_type": "code",
   "execution_count": 47,
   "metadata": {},
   "outputs": [
    {
     "data": {
      "text/plain": [
       "'carri'"
      ]
     },
     "execution_count": 47,
     "metadata": {},
     "output_type": "execute_result"
    }
   ],
   "source": [
    "#TFIDF with lemmitization\n",
    "tfidf=TfidfVectorizer(max_features=7000,analyzer='word',stop_words=\"english\")\n",
    "tfdf_features=tfidf.fit_transform(new_df['tags1'])\n",
    "tfidf.get_feature_names_out()[1002]"
   ]
  },
  {
   "cell_type": "code",
   "execution_count": 49,
   "metadata": {},
   "outputs": [],
   "source": [
    "from sklearn.metrics.pairwise import cosine_similarity"
   ]
  },
  {
   "cell_type": "code",
   "execution_count": 54,
   "metadata": {},
   "outputs": [
    {
     "data": {
      "text/plain": [
       "0"
      ]
     },
     "execution_count": 54,
     "metadata": {},
     "output_type": "execute_result"
    }
   ],
   "source": [
    "similarity=cosine_similarity(vector)\n",
    "new_df[new_df['title']=='Avatar'].index[0]"
   ]
  },
  {
   "cell_type": "code",
   "execution_count": 51,
   "metadata": {},
   "outputs": [
    {
     "data": {
      "text/plain": [
       "[(2, 0.36742346141747667),\n",
       " (1633, 0.3468909530866052),\n",
       " (8734, 0.3099652099390333),\n",
       " (4305, 0.2921532737340715),\n",
       " (1561, 0.28867513459481287)]"
      ]
     },
     "execution_count": 51,
     "metadata": {},
     "output_type": "execute_result"
    }
   ],
   "source": [
    "#give every movie index number details is comming\n",
    "sorted(list(enumerate(similarity[0])), reverse=True, key=lambda x : x[1])[1:6] # key define second column basis sort"
   ]
  },
  {
   "cell_type": "code",
   "execution_count": 52,
   "metadata": {},
   "outputs": [],
   "source": [
    "#Apply cosine similarity with tfIDF\n",
    "tfdf_similarity=cosine_similarity(tfdf_features)"
   ]
  }
 ],
 "metadata": {
  "kernelspec": {
   "display_name": "myenv",
   "language": "python",
   "name": "python3"
  },
  "language_info": {
   "codemirror_mode": {
    "name": "ipython",
    "version": 3
   },
   "file_extension": ".py",
   "mimetype": "text/x-python",
   "name": "python",
   "nbconvert_exporter": "python",
   "pygments_lexer": "ipython3",
   "version": "3.9.19"
  }
 },
 "nbformat": 4,
 "nbformat_minor": 2
}
